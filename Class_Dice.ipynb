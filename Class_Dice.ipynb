{
 "cells": [
  {
   "cell_type": "markdown",
   "id": "bbba8f13",
   "metadata": {},
   "source": [
    "## Dice class\n",
    "\n",
    "We're now going to create different example classes to get a better idea of how they work and how they can be used. Take a look at the following `Dice` class which can be used to roll any number of dice with any number of sides. During initialization, the number of sides are set, as well as the number of dice to be tossed during a single roll. The `verbose` boolean attribute determines whether or not the outcome of the rolls are printed to the screen. Two empty lists, `rolls` and `sums` are created to hold the individual values of each die along with the sum of the entire roll."
   ]
  },
  {
   "cell_type": "code",
   "execution_count": 2,
   "id": "d291d821",
   "metadata": {},
   "outputs": [],
   "source": [
    "import random\n",
    "\n",
    "class Dice:\n",
    "    '''\n",
    "    Roll any number of dice\n",
    "    \n",
    "    Parameters\n",
    "    ----------\n",
    "    sides: int\n",
    "        number of sides on one die\n",
    "        \n",
    "    num: int\n",
    "        number of dice to be tossed during a single roll\n",
    "        \n",
    "    verbose: bool\n",
    "        Whether to print out current roll, default False\n",
    "    '''\n",
    "    def __init__(self, sides=6, num=2, verbose=False):\n",
    "        self.sides = sides\n",
    "        self.num = num\n",
    "        self.verbose = verbose\n",
    "        self.rolls = []\n",
    "        self.sums = []\n",
    "        \n",
    "    def _roll(self):\n",
    "        '''\n",
    "        One complete roll of all dice\n",
    "        '''\n",
    "        cur_roll = tuple(random.randint(1, self.sides) for i in range(self.num))\n",
    "        self.rolls.append(cur_roll)\n",
    "        self.sums.append(sum(cur_roll))\n",
    "        if self.verbose:\n",
    "            print(f'Rolling {self.num} {self.sides}-sided dice: {cur_roll}')\n",
    "        \n",
    "    def roll(self, n=1):\n",
    "        '''\n",
    "        Roll all dice n number of times\n",
    "        '''\n",
    "        for i in range(n):\n",
    "            self._roll()"
   ]
  },
  {
   "cell_type": "markdown",
   "id": "2c045820",
   "metadata": {},
   "source": [
    "Let's create a new instance of our Dice class with three, 10-sided dice."
   ]
  },
  {
   "cell_type": "code",
   "execution_count": 8,
   "id": "a27fc8b5",
   "metadata": {},
   "outputs": [],
   "source": [
    "dice = Dice(sides = 10, num = 3 , verbose = True)"
   ]
  },
  {
   "cell_type": "code",
   "execution_count": 9,
   "id": "a0479a4c",
   "metadata": {},
   "outputs": [
    {
     "data": {
      "text/plain": [
       "__main__.Dice"
      ]
     },
     "execution_count": 9,
     "metadata": {},
     "output_type": "execute_result"
    }
   ],
   "source": [
    "type(dice)"
   ]
  },
  {
   "cell_type": "markdown",
   "id": "1fbbc5d6",
   "metadata": {},
   "source": [
    "The roll method rolls the dice n number of times. It does so by calling the private _roll method, which contains the logic to complete one entire roll. The random module's randint function is used to generate random dice rolls within a tuple comprehension. Notice how the instance's attributes are accessed through dot notation from self. Let's go ahead and roll the dice five separate times. Because verbose was set to True, the results are printed to the screen."
   ]
  },
  {
   "cell_type": "code",
   "execution_count": 13,
   "id": "b7a2e43f",
   "metadata": {},
   "outputs": [
    {
     "data": {
      "text/plain": [
       "(10, 3)"
      ]
     },
     "execution_count": 13,
     "metadata": {},
     "output_type": "execute_result"
    }
   ],
   "source": [
    "dice.sides, dice.num"
   ]
  },
  {
   "cell_type": "code",
   "execution_count": 10,
   "id": "5534fd0a",
   "metadata": {},
   "outputs": [
    {
     "name": "stdout",
     "output_type": "stream",
     "text": [
      "Rolling 3 10-sided dice: (2, 3, 5)\n",
      "Rolling 3 10-sided dice: (9, 4, 1)\n",
      "Rolling 3 10-sided dice: (10, 3, 2)\n",
      "Rolling 3 10-sided dice: (5, 4, 5)\n",
      "Rolling 3 10-sided dice: (9, 9, 2)\n"
     ]
    }
   ],
   "source": [
    "dice.roll(5)"
   ]
  },
  {
   "cell_type": "code",
   "execution_count": 11,
   "id": "f9bbc10d",
   "metadata": {},
   "outputs": [
    {
     "data": {
      "text/plain": [
       "[(2, 3, 5), (9, 4, 1), (10, 3, 2), (5, 4, 5), (9, 9, 2)]"
      ]
     },
     "execution_count": 11,
     "metadata": {},
     "output_type": "execute_result"
    }
   ],
   "source": [
    "dice.rolls"
   ]
  }
 ],
 "metadata": {
  "kernelspec": {
   "display_name": "Python 3 (ipykernel)",
   "language": "python",
   "name": "python3"
  },
  "language_info": {
   "codemirror_mode": {
    "name": "ipython",
    "version": 3
   },
   "file_extension": ".py",
   "mimetype": "text/x-python",
   "name": "python",
   "nbconvert_exporter": "python",
   "pygments_lexer": "ipython3",
   "version": "3.9.7"
  }
 },
 "nbformat": 4,
 "nbformat_minor": 5
}
